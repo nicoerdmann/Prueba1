{
  "nbformat": 4,
  "nbformat_minor": 0,
  "metadata": {
    "colab": {
      "provenance": [],
      "include_colab_link": true
    },
    "kernelspec": {
      "name": "python3",
      "display_name": "Python 3"
    },
    "language_info": {
      "name": "python"
    }
  },
  "cells": [
    {
      "cell_type": "markdown",
      "metadata": {
        "id": "view-in-github",
        "colab_type": "text"
      },
      "source": [
        "<a href=\"https://colab.research.google.com/github/nicoerdmann/Termofluidos/blob/main/copia_de_tarea_1.ipynb\" target=\"_parent\"><img src=\"https://colab.research.google.com/assets/colab-badge.svg\" alt=\"Open In Colab\"/></a>"
      ]
    },
    {
      "cell_type": "markdown",
      "source": [
        "Primero comenzamos instalando las librerías."
      ],
      "metadata": {
        "id": "Lq8fhlaF2DCq"
      }
    },
    {
      "cell_type": "code",
      "source": [
        "pip install Coolprop"
      ],
      "metadata": {
        "colab": {
          "base_uri": "https://localhost:8080/"
        },
        "id": "feiaK3NH2INB",
        "outputId": "14bd50ae-8cc8-42d3-fb53-b18b25b6d43f"
      },
      "execution_count": null,
      "outputs": [
        {
          "output_type": "stream",
          "name": "stdout",
          "text": [
            "Collecting Coolprop\n",
            "  Downloading CoolProp-6.6.0-cp310-cp310-manylinux_2_17_x86_64.manylinux2014_x86_64.whl.metadata (555 bytes)\n",
            "Downloading CoolProp-6.6.0-cp310-cp310-manylinux_2_17_x86_64.manylinux2014_x86_64.whl (7.0 MB)\n",
            "\u001b[2K   \u001b[90m━━━━━━━━━━━━━━━━━━━━━━━━━━━━━━━━━━━━━━━━\u001b[0m \u001b[32m7.0/7.0 MB\u001b[0m \u001b[31m12.2 MB/s\u001b[0m eta \u001b[36m0:00:00\u001b[0m\n",
            "\u001b[?25hInstalling collected packages: Coolprop\n",
            "Successfully installed Coolprop-6.6.0\n"
          ]
        }
      ]
    },
    {
      "cell_type": "code",
      "source": [
        "pip install fluids"
      ],
      "metadata": {
        "colab": {
          "base_uri": "https://localhost:8080/"
        },
        "id": "iPqsKq192R-Q",
        "outputId": "1651468e-9e38-44ea-e8da-e7a321fa4c8e"
      },
      "execution_count": null,
      "outputs": [
        {
          "output_type": "stream",
          "name": "stdout",
          "text": [
            "Collecting fluids\n",
            "  Downloading fluids-1.0.26-py3-none-any.whl.metadata (7.2 kB)\n",
            "Requirement already satisfied: numpy>=1.5.0 in /usr/local/lib/python3.10/dist-packages (from fluids) (1.26.4)\n",
            "Requirement already satisfied: scipy>=1.6.0 in /usr/local/lib/python3.10/dist-packages (from fluids) (1.13.1)\n",
            "Downloading fluids-1.0.26-py3-none-any.whl (1.5 MB)\n",
            "\u001b[?25l   \u001b[90m━━━━━━━━━━━━━━━━━━━━━━━━━━━━━━━━━━━━━━━━\u001b[0m \u001b[32m0.0/1.5 MB\u001b[0m \u001b[31m?\u001b[0m eta \u001b[36m-:--:--\u001b[0m\r\u001b[2K   \u001b[91m━━━━━━━━━━━━━━━━━━━━━━━━━━━━━━━━━━━━━━━\u001b[0m\u001b[91m╸\u001b[0m \u001b[32m1.5/1.5 MB\u001b[0m \u001b[31m64.5 MB/s\u001b[0m eta \u001b[36m0:00:01\u001b[0m\r\u001b[2K   \u001b[90m━━━━━━━━━━━━━━━━━━━━━━━━━━━━━━━━━━━━━━━━\u001b[0m \u001b[32m1.5/1.5 MB\u001b[0m \u001b[31m26.7 MB/s\u001b[0m eta \u001b[36m0:00:00\u001b[0m\n",
            "\u001b[?25hInstalling collected packages: fluids\n",
            "Successfully installed fluids-1.0.26\n"
          ]
        }
      ]
    },
    {
      "cell_type": "code",
      "source": [
        "pip install pint"
      ],
      "metadata": {
        "colab": {
          "base_uri": "https://localhost:8080/"
        },
        "id": "rsp2Ofafr50u",
        "outputId": "b3e6b440-cf6e-407e-97ff-4f2afbf8f71b"
      },
      "execution_count": null,
      "outputs": [
        {
          "output_type": "stream",
          "name": "stdout",
          "text": [
            "Collecting pint\n",
            "  Downloading Pint-0.24.3-py3-none-any.whl.metadata (8.5 kB)\n",
            "Collecting appdirs>=1.4.4 (from pint)\n",
            "  Downloading appdirs-1.4.4-py2.py3-none-any.whl.metadata (9.0 kB)\n",
            "Requirement already satisfied: typing-extensions in /usr/local/lib/python3.10/dist-packages (from pint) (4.12.2)\n",
            "Collecting flexcache>=0.3 (from pint)\n",
            "  Downloading flexcache-0.3-py3-none-any.whl.metadata (7.0 kB)\n",
            "Collecting flexparser>=0.3 (from pint)\n",
            "  Downloading flexparser-0.3.1-py3-none-any.whl.metadata (18 kB)\n",
            "Downloading Pint-0.24.3-py3-none-any.whl (301 kB)\n",
            "\u001b[2K   \u001b[90m━━━━━━━━━━━━━━━━━━━━━━━━━━━━━━━━━━━━━━━━\u001b[0m \u001b[32m301.8/301.8 kB\u001b[0m \u001b[31m14.7 MB/s\u001b[0m eta \u001b[36m0:00:00\u001b[0m\n",
            "\u001b[?25hDownloading appdirs-1.4.4-py2.py3-none-any.whl (9.6 kB)\n",
            "Downloading flexcache-0.3-py3-none-any.whl (13 kB)\n",
            "Downloading flexparser-0.3.1-py3-none-any.whl (27 kB)\n",
            "Installing collected packages: appdirs, flexparser, flexcache, pint\n",
            "Successfully installed appdirs-1.4.4 flexcache-0.3 flexparser-0.3.1 pint-0.24.3\n"
          ]
        }
      ]
    },
    {
      "cell_type": "code",
      "source": [
        "import CoolProp.CoolProp as cp\n",
        "import fluids as fld\n",
        "import numpy as np\n",
        "from scipy import constants\n",
        "from fluids.units import *\n",
        "from scipy.constants import g"
      ],
      "metadata": {
        "id": "Nl27Tl9T2raT"
      },
      "execution_count": null,
      "outputs": []
    },
    {
      "cell_type": "markdown",
      "source": [
        "#Problema #2"
      ],
      "metadata": {
        "id": "QJ25KT2v1W_u"
      }
    },
    {
      "cell_type": "code",
      "source": [
        "Diametro = 1.25 / 39.37\n",
        "vel_promedio = 100 / 3.281\n",
        "Largo = 300\n",
        "Temperatura = 20 + 273.15\n",
        "P_0 = 1 * 6895\n",
        "Area_transversal = (np.pi*Diametro**2)/4\n",
        "V_dot = vel_promedio * Area_transversal #Caudal\n",
        "Diametro, vel_promedio, Largo, Temperatura, P_0"
      ],
      "metadata": {
        "colab": {
          "base_uri": "https://localhost:8080/"
        },
        "id": "8AE69Wfa2naY",
        "outputId": "9ae9b0b0-53f5-4131-80cd-9c9ab6e0b490"
      },
      "execution_count": null,
      "outputs": [
        {
          "output_type": "execute_result",
          "data": {
            "text/plain": [
              "(0.031750063500127004, 30.478512648582747, 300, 293.15, 6895)"
            ]
          },
          "metadata": {},
          "execution_count": 14
        }
      ]
    },
    {
      "cell_type": "markdown",
      "source": [
        "a) Comenzamos calculando la pérdida de carga de la tubería"
      ],
      "metadata": {
        "id": "CThLTQAz5DZY"
      }
    },
    {
      "cell_type": "code",
      "source": [
        "# Definir el fluido como gas natural y la tuberia de cobre\n",
        "fluido = 'Methane'\n",
        "material = 'Copper'\n",
        "\n",
        "#Obtenemos la rugosidad del material, la densidad (rho) y el mu\n",
        "epsilon = fld.material_roughness(material)*u.m\n",
        "rho = cp.PropsSI('D','T', Temperatura, 'P',P_0, fluido)*u.kg/u.m**3\n",
        "mu = cp.PropsSI('V','T', Temperatura, 'P',P_0, fluido)*u.Pa*u.s\n"
      ],
      "metadata": {
        "id": "hEpPRMCg3WwI"
      },
      "execution_count": null,
      "outputs": []
    },
    {
      "cell_type": "markdown",
      "source": [
        "La pérdida de carga debido a la fricción puede calcularse a través de la siguiente fórmula,\n",
        "\n",
        "$\\Delta P_{\\text{friction}} =f \\frac{L}{D} \\frac{\\rho V^{2}}{2}$\n"
      ],
      "metadata": {
        "id": "ggqTCa4i_5lR"
      }
    },
    {
      "cell_type": "code",
      "source": [
        "Re = (fld.Reynolds(Diametro, rho, vel_promedio, mu)) #Revisar esto\n",
        "Re"
      ],
      "metadata": {
        "colab": {
          "base_uri": "https://localhost:8080/",
          "height": 38
        },
        "id": "Y13wIbEX6hPM",
        "outputId": "179c9569-e36d-41d0-d5b7-7bb2e814a476"
      },
      "execution_count": null,
      "outputs": [
        {
          "output_type": "execute_result",
          "data": {
            "text/plain": [
              "<Quantity(3983.77444, 'kilogram / meter ** 3 / pascal / second')>"
            ],
            "text/html": [
              "3983.7744386019826 kilogram/(meter<sup>3</sup> pascal second)"
            ],
            "text/latex": "$3983.7744386019826\\ \\frac{\\mathrm{kilogram}}{\\left(\\mathrm{meter}^{3} \\cdot \\mathrm{pascal} \\cdot \\mathrm{second}\\right)}$"
          },
          "metadata": {},
          "execution_count": 17
        }
      ]
    },
    {
      "cell_type": "code",
      "source": [],
      "metadata": {
        "id": "DmLdnoaGD385"
      },
      "execution_count": null,
      "outputs": []
    }
  ]
}