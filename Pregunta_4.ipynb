{
  "nbformat": 4,
  "nbformat_minor": 0,
  "metadata": {
    "colab": {
      "provenance": [],
      "authorship_tag": "ABX9TyP0NRC4pJ95R0V/xUK9DJDk",
      "include_colab_link": true
    },
    "kernelspec": {
      "name": "python3",
      "display_name": "Python 3"
    },
    "language_info": {
      "name": "python"
    }
  },
  "cells": [
    {
      "cell_type": "markdown",
      "metadata": {
        "id": "view-in-github",
        "colab_type": "text"
      },
      "source": [
        "<a href=\"https://colab.research.google.com/github/nicoerdmann/Termofluidos/blob/main/Pregunta_4.ipynb\" target=\"_parent\"><img src=\"https://colab.research.google.com/assets/colab-badge.svg\" alt=\"Open In Colab\"/></a>"
      ]
    },
    {
      "cell_type": "code",
      "source": [
        "pip install Coolprop"
      ],
      "metadata": {
        "colab": {
          "base_uri": "https://localhost:8080/"
        },
        "id": "w9QlLRr-Gle0",
        "outputId": "f74449e8-72d7-4c9d-b5fa-42861ce406c7"
      },
      "execution_count": 1,
      "outputs": [
        {
          "output_type": "stream",
          "name": "stdout",
          "text": [
            "Collecting Coolprop\n",
            "  Downloading CoolProp-6.6.0-cp310-cp310-manylinux_2_17_x86_64.manylinux2014_x86_64.whl.metadata (555 bytes)\n",
            "Downloading CoolProp-6.6.0-cp310-cp310-manylinux_2_17_x86_64.manylinux2014_x86_64.whl (7.0 MB)\n",
            "\u001b[2K   \u001b[90m━━━━━━━━━━━━━━━━━━━━━━━━━━━━━━━━━━━━━━━━\u001b[0m \u001b[32m7.0/7.0 MB\u001b[0m \u001b[31m21.1 MB/s\u001b[0m eta \u001b[36m0:00:00\u001b[0m\n",
            "\u001b[?25hInstalling collected packages: Coolprop\n",
            "Successfully installed Coolprop-6.6.0\n"
          ]
        }
      ]
    },
    {
      "cell_type": "code",
      "source": [
        "pip install fluids"
      ],
      "metadata": {
        "colab": {
          "base_uri": "https://localhost:8080/"
        },
        "id": "rrjdclAFGno0",
        "outputId": "7c28290f-b334-4c00-c5bb-8e76142b2dd4"
      },
      "execution_count": 2,
      "outputs": [
        {
          "output_type": "stream",
          "name": "stdout",
          "text": [
            "Collecting fluids\n",
            "  Downloading fluids-1.0.26-py3-none-any.whl.metadata (7.2 kB)\n",
            "Requirement already satisfied: numpy>=1.5.0 in /usr/local/lib/python3.10/dist-packages (from fluids) (1.26.4)\n",
            "Requirement already satisfied: scipy>=1.6.0 in /usr/local/lib/python3.10/dist-packages (from fluids) (1.13.1)\n",
            "Downloading fluids-1.0.26-py3-none-any.whl (1.5 MB)\n",
            "\u001b[2K   \u001b[90m━━━━━━━━━━━━━━━━━━━━━━━━━━━━━━━━━━━━━━━━\u001b[0m \u001b[32m1.5/1.5 MB\u001b[0m \u001b[31m13.9 MB/s\u001b[0m eta \u001b[36m0:00:00\u001b[0m\n",
            "\u001b[?25hInstalling collected packages: fluids\n",
            "Successfully installed fluids-1.0.26\n"
          ]
        }
      ]
    },
    {
      "cell_type": "code",
      "source": [
        "pip install pint"
      ],
      "metadata": {
        "colab": {
          "base_uri": "https://localhost:8080/"
        },
        "id": "6csEbpVTGp6E",
        "outputId": "7c41ddf6-22be-40f2-997c-18955df2f140"
      },
      "execution_count": 3,
      "outputs": [
        {
          "output_type": "stream",
          "name": "stdout",
          "text": [
            "Collecting pint\n",
            "  Downloading Pint-0.24.3-py3-none-any.whl.metadata (8.5 kB)\n",
            "Collecting appdirs>=1.4.4 (from pint)\n",
            "  Downloading appdirs-1.4.4-py2.py3-none-any.whl.metadata (9.0 kB)\n",
            "Requirement already satisfied: typing-extensions in /usr/local/lib/python3.10/dist-packages (from pint) (4.12.2)\n",
            "Collecting flexcache>=0.3 (from pint)\n",
            "  Downloading flexcache-0.3-py3-none-any.whl.metadata (7.0 kB)\n",
            "Collecting flexparser>=0.3 (from pint)\n",
            "  Downloading flexparser-0.3.1-py3-none-any.whl.metadata (18 kB)\n",
            "Downloading Pint-0.24.3-py3-none-any.whl (301 kB)\n",
            "\u001b[2K   \u001b[90m━━━━━━━━━━━━━━━━━━━━━━━━━━━━━━━━━━━━━━━━\u001b[0m \u001b[32m301.8/301.8 kB\u001b[0m \u001b[31m6.9 MB/s\u001b[0m eta \u001b[36m0:00:00\u001b[0m\n",
            "\u001b[?25hDownloading appdirs-1.4.4-py2.py3-none-any.whl (9.6 kB)\n",
            "Downloading flexcache-0.3-py3-none-any.whl (13 kB)\n",
            "Downloading flexparser-0.3.1-py3-none-any.whl (27 kB)\n",
            "Installing collected packages: appdirs, flexparser, flexcache, pint\n",
            "Successfully installed appdirs-1.4.4 flexcache-0.3 flexparser-0.3.1 pint-0.24.3\n"
          ]
        }
      ]
    },
    {
      "cell_type": "code",
      "source": [
        "import CoolProp.CoolProp as cp\n",
        "import fluids as fld\n",
        "import numpy as np\n",
        "from scipy import constants\n",
        "from scipy.constants import g\n",
        "from fluids.units import *\n",
        "import pint\n",
        "import matplotlib.pyplot as plt"
      ],
      "metadata": {
        "id": "FH-_ZtGGGsKL"
      },
      "execution_count": 4,
      "outputs": []
    },
    {
      "cell_type": "code",
      "source": [
        "fluido = 'Water'\n",
        "material = 'plastic coated'"
      ],
      "metadata": {
        "id": "_W4m1U23KwTj"
      },
      "execution_count": 12,
      "outputs": []
    },
    {
      "cell_type": "markdown",
      "source": [
        "Para este problema iré sacando la perdida de carga de cada tramo."
      ],
      "metadata": {
        "id": "vypf-6odIJnx"
      }
    },
    {
      "cell_type": "code",
      "execution_count": 35,
      "metadata": {
        "id": "XCh8kvNwLrss"
      },
      "outputs": [],
      "source": [
        "Q = 0.00015 * (u.m**3/u.s)\n",
        "n = 20 #numero de casas\n",
        "Q_tot = Q * n\n",
        "D = 0.0254 * (u.m)\n",
        "A = (np.pi*D**2)/4\n",
        "Temperatura = 25 + 273.15 #Consideramos temperatura ambiente\n",
        "P_0 = 101325 * (u.Pa) #Debemos sumar la presión atmosférica\n",
        "epsilon = fld.material_roughness(material)*u.m\n",
        "rho = cp.PropsSI('D','T', Temperatura, 'P',P_0.magnitude, fluido)*u.kg/u.m**3\n",
        "mu = cp.PropsSI('V','T', Temperatura, 'P',P_0.magnitude, fluido)*u.Pa*u.s"
      ]
    },
    {
      "cell_type": "code",
      "source": [
        "#Tramo 1:\n",
        "\n",
        "Q1 = 20 * Q\n",
        "V1 = Q1/A\n",
        "Re1 = (fld.Reynolds(D, rho, V1, mu)).to('dimensionless') #Ir modificando V\n",
        "f1 = fld.friction.friction_factor(Re1, eD=epsilon/D, Method='Colebrook') #Ir modificando Re\n",
        "L1 = 5.53 * (u.m)\n",
        "DELTA_P_1 = ((f1 * L1 * rho * V1**2)/(2 * D)).to(u.kPa) #Modifico f, L, V\n",
        "print(DELTA_P_1)\n",
        "\n",
        "#Tramo 2:\n",
        "\n",
        "Q2 = 5 * Q\n",
        "V2 = Q2/A\n",
        "Re2 = (fld.Reynolds(D, rho, V2, mu)).to('dimensionless')\n",
        "f2 = fld.friction.friction_factor(Re2, eD=epsilon/D, Method='Colebrook')\n",
        "L2 = 5.53 * (u.m)\n",
        "DELTA_P_2 = ((f1 * L2 * rho * V2**2)/(2 * D)).to(u.kPa)\n"
      ],
      "metadata": {
        "colab": {
          "base_uri": "https://localhost:8080/"
        },
        "id": "Upm_2zmPKKq3",
        "outputId": "26ad2be5-bce3-4889-d331-81ff5edf833c"
      },
      "execution_count": 39,
      "outputs": [
        {
          "output_type": "stream",
          "name": "stdout",
          "text": [
            "153.90758784193062 kilopascal\n"
          ]
        }
      ]
    },
    {
      "cell_type": "code",
      "source": [
        "# Lista de tramos (Q y L)\n",
        "tramos = [\n",
        "    {\"Q\": 20, \"L\": 5.53}, {\"Q\": 5, \"L\": 17.23}, {\"Q\": 1, \"L\": 4.6}, {\"Q\": 4, \"L\": 27.3}, {\"Q\": 1, \"L\": 12.04},\n",
        "    {\"Q\": 3, \"L\": 3.17}, {\"Q\": 2, \"L\": 14.5}, {\"Q\": 1, \"L\": 91.33}, {\"Q\": 1, \"L\": 158.65}, {\"Q\": 1, \"L\": 222.16},\n",
        "    {\"Q\": 15, \"L\": 27.68}, {\"Q\": 4, \"L\": 17.27}, {\"Q\": 2, \"L\": 1.88}, {\"Q\": 1, \"L\": 29.37}, {\"Q\": 1, \"L\": 44.99},\n",
        "    {\"Q\": 2, \"L\": 29.65}, {\"Q\": 1, \"L\": 110.27}, {\"Q\": 1, \"L\": 22.36}, {\"Q\": 11, \"L\": 22.12}, {\"Q\": 1, \"L\": 41.89},\n",
        "    {\"Q\": 10, \"L\": 68}, {\"Q\": 1, \"L\": 14.31}, {\"Q\": 9, \"L\": 3.2}, {\"Q\": 2, \"L\": 14.09}, {\"Q\": 1, \"L\": 19.98},\n",
        "    {\"Q\": 1, \"L\": 8.95}, {\"Q\": 7, \"L\": 21.79}, {\"Q\": 1, \"L\": 5.85}, {\"Q\": 6, \"L\": 15.67}, {\"Q\": 1, \"L\": 5.89},\n",
        "    {\"Q\": 5, \"L\": 22.7}, {\"Q\": 1, \"L\": 73.05}, {\"Q\": 4, \"L\": 14.28}, {\"Q\": 2, \"L\": 2.06}, {\"Q\": 1, \"L\": 5.05},\n",
        "    {\"Q\": 1, \"L\": 3.05}, {\"Q\": 2, \"L\": 1.95}, {\"Q\": 1, \"L\": 3.05}, {\"Q\": 1, \"L\": 17.89}\n",
        "]\n",
        "\n",
        "# Función para calcular la pérdida de presión en un tramo\n",
        "def calcular_delta_P(Q_factor, L_factor, tramo_num):\n",
        "    # Caudal volumétrico\n",
        "    Q_tramo = Q_factor * Q  # Escalamos Q por el factor de cada tramo\n",
        "    V_tramo = Q_tramo / A  # Velocidad del flujo\n",
        "\n",
        "    # Número de Reynolds\n",
        "    Re_tramo = (fld.Reynolds(D, rho, V_tramo, mu)).to('dimensionless')\n",
        "\n",
        "    # Factor de fricción Colebrook\n",
        "    f_tramo = fld.friction.friction_factor(Re_tramo, eD=epsilon/D, Method='Colebrook')\n",
        "\n",
        "    # Longitud del tramo en metros\n",
        "    L_tramo = L_factor * u.m\n",
        "\n",
        "    # Pérdida de presión\n",
        "    DELTA_P_tramo = ((f_tramo * L_tramo * rho * V_tramo**2) / (2 * D)).to(u.kPa)\n",
        "\n",
        "    # Impresión de resultados para cada tramo\n",
        "    print(f\"Tramo {tramo_num}: Pérdida de presión = {DELTA_P_tramo:.2f}\")\n",
        "\n",
        "# Cálculo de las pérdidas de presión para cada tramo\n",
        "for i, tramo in enumerate(tramos):\n",
        "    Q_factor = tramo['Q']\n",
        "    L_factor = tramo['L']\n",
        "    calcular_delta_P(Q_factor, L_factor, i+1)"
      ],
      "metadata": {
        "colab": {
          "base_uri": "https://localhost:8080/"
        },
        "id": "V7nmypO5gu4-",
        "outputId": "0827fb22-9f40-4b51-d670-b0cfb1ca31f1"
      },
      "execution_count": 57,
      "outputs": [
        {
          "output_type": "stream",
          "name": "stdout",
          "text": [
            "Tramo 1: Pérdida de presión = 153.91 kilopascal\n",
            "Tramo 2: Pérdida de presión = 30.66 kilopascal\n",
            "Tramo 3: Pérdida de presión = 0.36 kilopascal\n",
            "Tramo 4: Pérdida de presión = 31.32 kilopascal\n",
            "Tramo 5: Pérdida de presión = 0.95 kilopascal\n",
            "Tramo 6: Pérdida de presión = 2.07 kilopascal\n",
            "Tramo 7: Pérdida de presión = 4.30 kilopascal\n",
            "Tramo 8: Pérdida de presión = 7.18 kilopascal\n",
            "Tramo 9: Pérdida de presión = 12.47 kilopascal\n",
            "Tramo 10: Pérdida de presión = 17.47 kilopascal\n",
            "Tramo 11: Pérdida de presión = 434.47 kilopascal\n",
            "Tramo 12: Pérdida de presión = 19.81 kilopascal\n",
            "Tramo 13: Pérdida de presión = 0.56 kilopascal\n",
            "Tramo 14: Pérdida de presión = 2.31 kilopascal\n",
            "Tramo 15: Pérdida de presión = 3.54 kilopascal\n",
            "Tramo 16: Pérdida de presión = 8.80 kilopascal\n",
            "Tramo 17: Pérdida de presión = 8.67 kilopascal\n",
            "Tramo 18: Pérdida de presión = 1.76 kilopascal\n",
            "Tramo 19: Pérdida de presión = 187.42 kilopascal\n",
            "Tramo 20: Pérdida de presión = 3.29 kilopascal\n",
            "Tramo 21: Pérdida de presión = 476.83 kilopascal\n",
            "Tramo 22: Pérdida de presión = 1.13 kilopascal\n",
            "Tramo 23: Pérdida de presión = 18.21 kilopascal\n",
            "Tramo 24: Pérdida de presión = 4.18 kilopascal\n",
            "Tramo 25: Pérdida de presión = 1.57 kilopascal\n",
            "Tramo 26: Pérdida de presión = 0.70 kilopascal\n",
            "Tramo 27: Pérdida de presión = 75.36 kilopascal\n",
            "Tramo 28: Pérdida de presión = 0.46 kilopascal\n",
            "Tramo 29: Pérdida de presión = 39.96 kilopascal\n",
            "Tramo 30: Pérdida de presión = 0.46 kilopascal\n",
            "Tramo 31: Pérdida de presión = 40.40 kilopascal\n",
            "Tramo 32: Pérdida de presión = 5.74 kilopascal\n",
            "Tramo 33: Pérdida de presión = 16.38 kilopascal\n",
            "Tramo 34: Pérdida de presión = 0.61 kilopascal\n",
            "Tramo 35: Pérdida de presión = 0.40 kilopascal\n",
            "Tramo 36: Pérdida de presión = 0.24 kilopascal\n",
            "Tramo 37: Pérdida de presión = 0.58 kilopascal\n",
            "Tramo 38: Pérdida de presión = 0.24 kilopascal\n",
            "Tramo 39: Pérdida de presión = 1.41 kilopascal\n"
          ]
        }
      ]
    },
    {
      "cell_type": "markdown",
      "source": [
        "Ahora defino los valores de los tramos y calculo la perdida de cada casa en base al recorrido del agua."
      ],
      "metadata": {
        "id": "xt26SBTSpV_-"
      }
    },
    {
      "cell_type": "code",
      "source": [
        "tramo_perdidas = [\n",
        "    153.91, 30.66, 0.36, 31.32, 0.95, 2.07, 4.30, 7.18, 12.47, 17.47,\n",
        "    434.47, 19.81, 0.56, 2.31, 3.54, 8.80, 8.67, 1.76, 187.42, 3.29,\n",
        "    476.83, 1.13, 18.21, 4.18, 1.57, 0.70, 75.36, 0.46, 39.96, 0.46,\n",
        "    40.40, 5.74, 16.38, 0.61, 0.40, 0.24, 0.58, 0.24, 1.41\n",
        "]\n",
        "\n",
        "recorridos = {\n",
        "    1: [1, 2, 4, 6, 7, 8],\n",
        "    2: [1, 2, 4, 6, 7, 9],\n",
        "    3: [1, 11, 12, 13, 15],\n",
        "    4: [1, 11, 12, 13, 14],\n",
        "    5: [1, 11, 12, 16, 17],\n",
        "    6: [1, 11, 12, 16, 18],\n",
        "    7: [1, 11, 19, 21, 23, 24, 25],\n",
        "    8: [1, 11, 19, 21, 23, 24, 26],\n",
        "    9: [1, 11, 19, 21, 23, 27, 29, 31, 33, 34, 35],\n",
        "    10: [1, 11, 19, 21, 23, 27, 29, 31, 33, 34, 36],\n",
        "    11: [1, 11, 19, 21, 23, 27, 29, 31, 33, 37, 38],\n",
        "    12: [1, 11, 19, 21, 23, 27, 29, 31, 33, 37, 39],\n",
        "    13: [1, 2, 4, 6, 10],\n",
        "    14: [1, 2, 4, 5],\n",
        "    15: [1, 2, 3],\n",
        "    16: [1, 11, 19, 20],\n",
        "    17: [1, 11, 19, 21, 22],\n",
        "    18: [1, 11, 19, 21, 23, 27, 28],\n",
        "    19: [1, 11, 19, 21, 23, 27, 29, 30],\n",
        "    20: [1, 11, 19, 21, 23, 27, 29, 31, 32]\n",
        "}\n",
        "\n",
        "# Calcular y mostrar la pérdida de carga total para cada casa\n",
        "for casa, tramos_casa in recorridos.items():\n",
        "    perdida_total = sum(tramo_perdidas[tramo - 1] for tramo in tramos_casa)  # tramo-1 por indexación de Python\n",
        "    print(f\"Pérdida total de carga por roce para la casa {casa}: {perdida_total:.2f} kPa\")\n"
      ],
      "metadata": {
        "colab": {
          "base_uri": "https://localhost:8080/"
        },
        "id": "wiY2TnZIo6Q8",
        "outputId": "a0ae5875-b1cc-4d0d-9bd7-164f0139c491"
      },
      "execution_count": 62,
      "outputs": [
        {
          "output_type": "stream",
          "name": "stdout",
          "text": [
            "Pérdida total de carga por roce para la casa 1: 229.44 kPa\n",
            "Pérdida total de carga por roce para la casa 2: 234.73 kPa\n",
            "Pérdida total de carga por roce para la casa 3: 612.29 kPa\n",
            "Pérdida total de carga por roce para la casa 4: 611.06 kPa\n",
            "Pérdida total de carga por roce para la casa 5: 625.66 kPa\n",
            "Pérdida total de carga por roce para la casa 6: 618.75 kPa\n",
            "Pérdida total de carga por roce para la casa 7: 1276.59 kPa\n",
            "Pérdida total de carga por roce para la casa 8: 1275.72 kPa\n",
            "Pérdida total de carga por roce para la casa 9: 1443.95 kPa\n",
            "Pérdida total de carga por roce para la casa 10: 1443.79 kPa\n",
            "Pérdida total de carga por roce para la casa 11: 1443.76 kPa\n",
            "Pérdida total de carga por roce para la casa 12: 1444.93 kPa\n",
            "Pérdida total de carga por roce para la casa 13: 235.43 kPa\n",
            "Pérdida total de carga por roce para la casa 14: 216.84 kPa\n",
            "Pérdida total de carga por roce para la casa 15: 184.93 kPa\n",
            "Pérdida total de carga por roce para la casa 16: 779.09 kPa\n",
            "Pérdida total de carga por roce para la casa 17: 1253.76 kPa\n",
            "Pérdida total de carga por roce para la casa 18: 1346.66 kPa\n",
            "Pérdida total de carga por roce para la casa 19: 1386.62 kPa\n",
            "Pérdida total de carga por roce para la casa 20: 1432.30 kPa\n"
          ]
        }
      ]
    },
    {
      "cell_type": "code",
      "source": [
        "# Diferencias de altura en metros para cada casa\n",
        "alturas = {\n",
        "    1: -2.11,\n",
        "    2: -0.81,\n",
        "    3: 0.313,\n",
        "    4: 1.546,\n",
        "    5: 3.197,\n",
        "    6: 3.665,\n",
        "    7: 6.49,\n",
        "    8: 7.344,\n",
        "    9: 9.69,\n",
        "    10: 9.71,\n",
        "    11: 10.9,\n",
        "    12: 11,\n",
        "    13: -5.5,\n",
        "    14: -1.85,\n",
        "    15: -0.81,\n",
        "    16: 2.66,\n",
        "    17: 6.49,\n",
        "    18: 7.9,\n",
        "    19: 9.49,\n",
        "    20: 11\n",
        "}\n",
        "\n",
        "def calcular_perdida_por_altura(altura, rho):\n",
        "    g = 9.81  # Aceleración por la gravedad en m/s^2\n",
        "    return rho * g * altura / 1000  # Conversión a kilopascales\n",
        "\n",
        "# Calcula la pérdida total incluyendo la elevación para cada casa\n",
        "perdidas_totales_con_altura = {}\n",
        "for casa, tramos_casa in recorridos.items():\n",
        "    perdida_por_tramos = sum(tramo_perdidas[tramo - 1] for tramo in tramos_casa)  # Suma de pérdidas por tramos\n",
        "    altura_casa = alturas[casa]  # Obtener la altura de la casa actual\n",
        "    perdida_por_altura = calcular_perdida_por_altura(altura_casa, rho.magnitude)  # Calcular la pérdida por la altura\n",
        "    perdida_total = perdida_por_tramos + perdida_por_altura  # Suma de pérdida por tramos y altura\n",
        "    perdidas_totales_con_altura[casa] = perdida_total\n",
        "\n",
        "# Imprimir los resultados\n",
        "for casa, perdida in perdidas_totales_con_altura.items():\n",
        "    print(f\"Pérdida total de carga para la casa {casa} (incluyendo elevación): {perdida:.2f} kPa\")\n"
      ],
      "metadata": {
        "colab": {
          "base_uri": "https://localhost:8080/"
        },
        "id": "nEelwwSR2ZiE",
        "outputId": "7d7405eb-4cfd-479b-ea6a-6455637e752d"
      },
      "execution_count": 64,
      "outputs": [
        {
          "output_type": "stream",
          "name": "stdout",
          "text": [
            "Pérdida total de carga para la casa 1 (incluyendo elevación): 208.80 kPa\n",
            "Pérdida total de carga para la casa 2 (incluyendo elevación): 226.81 kPa\n",
            "Pérdida total de carga para la casa 3 (incluyendo elevación): 615.35 kPa\n",
            "Pérdida total de carga para la casa 4 (incluyendo elevación): 626.18 kPa\n",
            "Pérdida total de carga para la casa 5 (incluyendo elevación): 656.93 kPa\n",
            "Pérdida total de carga para la casa 6 (incluyendo elevación): 654.60 kPa\n",
            "Pérdida total de carga para la casa 7 (incluyendo elevación): 1340.07 kPa\n",
            "Pérdida total de carga para la casa 8 (incluyendo elevación): 1347.55 kPa\n",
            "Pérdida total de carga para la casa 9 (incluyendo elevación): 1538.73 kPa\n",
            "Pérdida total de carga para la casa 10 (incluyendo elevación): 1538.76 kPa\n",
            "Pérdida total de carga para la casa 11 (incluyendo elevación): 1550.37 kPa\n",
            "Pérdida total de carga para la casa 12 (incluyendo elevación): 1552.52 kPa\n",
            "Pérdida total de carga para la casa 13 (incluyendo elevación): 181.63 kPa\n",
            "Pérdida total de carga para la casa 14 (incluyendo elevación): 198.75 kPa\n",
            "Pérdida total de carga para la casa 15 (incluyendo elevación): 177.01 kPa\n",
            "Pérdida total de carga para la casa 16 (incluyendo elevación): 805.11 kPa\n",
            "Pérdida total de carga para la casa 17 (incluyendo elevación): 1317.24 kPa\n",
            "Pérdida total de carga para la casa 18 (incluyendo elevación): 1423.93 kPa\n",
            "Pérdida total de carga para la casa 19 (incluyendo elevación): 1479.44 kPa\n",
            "Pérdida total de carga para la casa 20 (incluyendo elevación): 1539.89 kPa\n"
          ]
        }
      ]
    },
    {
      "cell_type": "code",
      "source": [
        "# Encontrar la pérdida máxima y la casa correspondiente\n",
        "max_perdida = max(perdidas_totales_con_altura.values())\n",
        "casa_max_perdida = max(perdidas_totales_con_altura, key=perdidas_totales_con_altura.get)  # Encuentra la clave con el valor máximo\n",
        "\n",
        "print(f\"La máxima pérdida de carga en el sistema es de {max_perdida:.2f} kPa, correspondiente a la casa {casa_max_perdida}.\")\n"
      ],
      "metadata": {
        "colab": {
          "base_uri": "https://localhost:8080/"
        },
        "id": "ygjnHkSpqFoq",
        "outputId": "e9251665-d9e9-4f2a-b3a7-7c565c942784"
      },
      "execution_count": 66,
      "outputs": [
        {
          "output_type": "stream",
          "name": "stdout",
          "text": [
            "La máxima pérdida de carga en el sistema es de 1552.52 kPa, correspondiente a la casa 12.\n"
          ]
        }
      ]
    },
    {
      "cell_type": "markdown",
      "source": [
        "Si graficamos esto se ve asi:"
      ],
      "metadata": {
        "id": "SwHk-mDypja1"
      }
    },
    {
      "cell_type": "code",
      "source": [
        "import matplotlib.pyplot as plt\n",
        "\n",
        "# Extraer datos para graficar\n",
        "casas = list(perdidas_totales_con_altura.keys())\n",
        "perdidas = [perdidas_totales_con_altura[casa] for casa in casas]\n",
        "\n",
        "# Crear gráfico de barras\n",
        "plt.figure(figsize=(12, 6))\n",
        "plt.bar(casas, perdidas, color='blue')\n",
        "plt.xlabel('Casa')\n",
        "plt.ylabel('Pérdida de Carga Total (kPa)')\n",
        "plt.title('Pérdida de Carga por Casa Incluyendo Diferencia de Altura')\n",
        "plt.grid(True)\n",
        "plt.show()\n"
      ],
      "metadata": {
        "colab": {
          "base_uri": "https://localhost:8080/",
          "height": 565
        },
        "id": "wBX-3h_J21pR",
        "outputId": "91fbca5d-4044-459b-9605-8782f9e0f257"
      },
      "execution_count": 65,
      "outputs": [
        {
          "output_type": "display_data",
          "data": {
            "text/plain": [
              "<Figure size 1200x600 with 1 Axes>"
            ],
            "image/png": "[encoded data removed]"
          },
          "metadata": {}
        }
      ]
    }
  ]
}