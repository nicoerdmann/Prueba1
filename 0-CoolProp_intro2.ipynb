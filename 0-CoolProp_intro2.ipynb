{
  "cells": [
    {
      "cell_type": "markdown",
      "metadata": {},
      "source": [
        "# Introducción a Coolprop"
      ]
    },
    {
      "cell_type": "code",
      "execution_count": 1,
      "metadata": {
        "id": "eeXmOPI6HMUZ"
      },
      "outputs": [],
      "source": [
        "import CoolProp.CoolProp as cp"
      ]
    },
    {
      "cell_type": "markdown",
      "metadata": {
        "id": "xIyYRyRgHnzA"
      },
      "source": [
        "Para este ejemplo trabajaremos con **Agua**.\n",
        "\n",
        "Definiremos como Temperatura de referencia 298 K y Presión de referenica 1 atmósfera: 101,325 kPa"
      ]
    },
    {
      "cell_type": "code",
      "execution_count": 2,
      "metadata": {
        "id": "Jys1XrSZHTCY"
      },
      "outputs": [],
      "source": [
        "fluid = \"water\"\n",
        "ref_temp = 298 # K\n",
        "ref_press = 101325 # Pa"
      ]
    },
    {
      "cell_type": "markdown",
      "metadata": {
        "id": "woH_sdV1IGqy"
      },
      "source": [
        "Calculemos la densidad del agua a la Temperatura y presión de referencia. Para ello, con se emplea la función \"PropsSI\" que de manera general se enuncia como sigue:\n",
        "\n",
        "```\n",
        "PropsSI(\"str de la propiedad que deseo\",\"str de la propiedad 1 que tengo\",\n",
        "valor_prop_1, \"str de la propiedad 2 que tengo\", valor_prop_2, \"str de la sustancia\")\n",
        "```\n",
        "Pueden revisar las propiedaes de entrada/salida que admite esta función y cómo se deben ingresar en la función en este [enlace](http://www.coolprop.org/coolprop/HighLevelAPI.html#table-of-string-inputs-to-propssi-function).\n",
        "\n"
      ]
    },
    {
      "cell_type": "code",
      "execution_count": 3,
      "metadata": {
        "colab": {
          "base_uri": "https://localhost:8080/"
        },
        "id": "7cdxQOi9H_7Z",
        "outputId": "c6312711-0c9a-4834-af8a-64c694626b7a"
      },
      "outputs": [
        {
          "data": {
            "text/plain": [
              "997.0860088230808"
            ]
          },
          "execution_count": 3,
          "metadata": {},
          "output_type": "execute_result"
        }
      ],
      "source": [
        "density = cp.PropsSI(\"D\", \"T\", ref_temp, \"P\", ref_press, fluid)\n",
        "density # kg/m^3"
      ]
    },
    {
      "cell_type": "markdown",
      "metadata": {
        "id": "DVLO6IAlIWGt"
      },
      "source": [
        ".... ¿En qué unidades está la magnitud que entrega CoolProp?\n",
        "\n",
        "\n",
        "Y podríamos pedirle que evalue la fase en la que se encuentra el agua"
      ]
    },
    {
      "cell_type": "code",
      "execution_count": null,
      "metadata": {
        "colab": {
          "base_uri": "https://localhost:8080/",
          "height": 35
        },
        "id": "nMMSH34CIe-q",
        "outputId": "958986f7-c84d-4b8c-9c2d-28569a19486e"
      },
      "outputs": [
        {
          "data": {
            "application/vnd.google.colaboratory.intrinsic+json": {
              "type": "string"
            },
            "text/plain": [
              "'liquid'"
            ]
          },
          "execution_count": 5,
          "metadata": {},
          "output_type": "execute_result"
        }
      ],
      "source": [
        "phase = cp.PhaseSI(\"T\", ref_temp, \"P\", ref_press, fluid)\n",
        "phase"
      ]
    },
    {
      "cell_type": "markdown",
      "metadata": {
        "id": "NVrC1E80kglq"
      },
      "source": [
        "Podemos notar que se va repitiendo un cierto patrón en como obtener información acerca del fluido. Para conocer una propiedad en específico, se tiene que tener información de dos variables termodinámicas, que en este caso, son la presión y la temperatura. "
      ]
    },
    {
      "cell_type": "markdown",
      "metadata": {
        "id": "IOZVbaPwnSBe"
      },
      "source": [
        "**Segunda parte:** Uso de CoolProp junto con otras librerías de python"
      ]
    },
    {
      "cell_type": "markdown",
      "metadata": {
        "id": "wPz3zDKOnqh9"
      },
      "source": [
        "\n",
        "Comenzaremos trabajando con arreglos, de manera que definiremos un rango de temperatura en donde podemos determinar alguna propiedad del agua a una presión fija, que será la que definimos al principio, que es de 101,325 kPa. Para crear y trabajar con arreglos numéricos (vectores o arrays), se empleará la librería [NumPy](https://numpy.org/doc/stable/user/quickstart.html).\n",
        "\n",
        "Importamos la librería:\n",
        "\n"
      ]
    },
    {
      "cell_type": "code",
      "execution_count": 3,
      "metadata": {
        "id": "ZJqw7MfboVWN"
      },
      "outputs": [
        {
          "ename": "ModuleNotFoundError",
          "evalue": "No module named 'numpy'",
          "output_type": "error",
          "traceback": [
            "\u001b[1;31m---------------------------------------------------------------------------\u001b[0m",
            "\u001b[1;31mModuleNotFoundError\u001b[0m                       Traceback (most recent call last)",
            "Cell \u001b[1;32mIn[3], line 1\u001b[0m\n\u001b[1;32m----> 1\u001b[0m \u001b[38;5;28;01mimport\u001b[39;00m \u001b[38;5;21;01mnumpy\u001b[39;00m \u001b[38;5;28;01mas\u001b[39;00m \u001b[38;5;21;01mnp\u001b[39;00m\n",
            "\u001b[1;31mModuleNotFoundError\u001b[0m: No module named 'numpy'"
          ]
        }
      ],
      "source": [
        "import numpy as np"
      ]
    },
    {
      "cell_type": "code",
      "execution_count": 2,
      "metadata": {},
      "outputs": [
        {
          "name": "stdout",
          "output_type": "stream",
          "text": [
            "Requirement already satisfied: numpy in c:\\users\\nicol\\appdata\\local\\programs\\python\\python38\\lib\\site-packages (1.22.3)\n"
          ]
        },
        {
          "name": "stderr",
          "output_type": "stream",
          "text": [
            "WARNING: You are using pip version 20.2.3; however, version 24.2 is available.\n",
            "You should consider upgrading via the 'c:\\users\\nicol\\appdata\\local\\programs\\python\\python38\\python.exe -m pip install --upgrade pip' command.\n"
          ]
        }
      ],
      "source": [
        "!pip install numpy"
      ]
    },
    {
      "cell_type": "markdown",
      "metadata": {
        "id": "-b8yFmPQor5S"
      },
      "source": [
        "Definiremos un rango de temperatura entre los 273,153 K a 353,153 K (0 a 80 °C) a la misma presión anterior."
      ]
    },
    {
      "cell_type": "code",
      "execution_count": 5,
      "metadata": {
        "colab": {
          "base_uri": "https://localhost:8080/"
        },
        "id": "TUAC_onmoqK5",
        "outputId": "c77cc7f7-ad79-4cb2-9ec0-862bcb29df28"
      },
      "outputs": [
        {
          "data": {
            "text/plain": [
              "array([273.153, 274.153, 275.153, 276.153, 277.153, 278.153, 279.153,\n",
              "       280.153, 281.153, 282.153, 283.153, 284.153, 285.153, 286.153,\n",
              "       287.153, 288.153, 289.153, 290.153, 291.153, 292.153, 293.153,\n",
              "       294.153, 295.153, 296.153, 297.153, 298.153, 299.153, 300.153,\n",
              "       301.153, 302.153, 303.153, 304.153, 305.153, 306.153, 307.153,\n",
              "       308.153, 309.153, 310.153, 311.153, 312.153, 313.153, 314.153,\n",
              "       315.153, 316.153, 317.153, 318.153, 319.153, 320.153, 321.153,\n",
              "       322.153, 323.153, 324.153, 325.153, 326.153, 327.153, 328.153,\n",
              "       329.153, 330.153, 331.153, 332.153, 333.153, 334.153, 335.153,\n",
              "       336.153, 337.153, 338.153, 339.153, 340.153, 341.153, 342.153,\n",
              "       343.153, 344.153, 345.153, 346.153, 347.153, 348.153, 349.153,\n",
              "       350.153, 351.153, 352.153, 353.153])"
            ]
          },
          "execution_count": 5,
          "metadata": {},
          "output_type": "execute_result"
        }
      ],
      "source": [
        "temp_range = np.linspace(0, 80, 81) + 273.153 # K - linspace(start, stop, numero de elementos entre start y stop)\n",
        "temp_range"
      ]
    },
    {
      "cell_type": "markdown",
      "metadata": {
        "id": "8bc0FJewq_lQ"
      },
      "source": [
        "Calculamos la densidad en función de la temperatura y a presión constante."
      ]
    },
    {
      "cell_type": "code",
      "execution_count": 6,
      "metadata": {
        "colab": {
          "base_uri": "https://localhost:8080/"
        },
        "id": "8YYoas-lrfMb",
        "outputId": "89f563bd-93d4-4435-babe-566a4237d6a4"
      },
      "outputs": [
        {
          "data": {
            "text/plain": [
              "array([999.84328867, 999.90198706, 999.94310064, 999.96721173,\n",
              "       999.97486802, 999.96658535, 999.94285019, 999.90412189,\n",
              "       999.85083472, 999.78339973, 999.7022064 , 999.60762421,\n",
              "       999.50000395, 999.37967908, 999.24696683, 999.10216929,\n",
              "       998.94557436, 998.77745669, 998.59807843, 998.40769008,\n",
              "       998.20653111, 997.99483068, 997.77280816, 997.54067375,\n",
              "       997.29862897, 997.04686713, 996.7855738 , 996.51492719,\n",
              "       996.23509858, 995.94625262, 995.64854773, 995.34213636,\n",
              "       995.02716534, 994.7037761 , 994.37210496, 994.03228336,\n",
              "       993.6844381 , 993.32869154, 992.96516183, 992.59396304,\n",
              "       992.2152054 , 991.82899545, 991.43543617, 991.03462717,\n",
              "       990.62666481, 990.21164233, 989.78964999, 989.36077519,\n",
              "       988.92510258, 988.48271413, 988.03368932, 987.57810513,\n",
              "       987.11603623, 986.64755499, 986.17273161, 985.69163418,\n",
              "       985.20432874, 984.7108794 , 984.21134835, 983.70579596,\n",
              "       983.19428082, 982.67685983, 982.15358821, 981.6245196 ,\n",
              "       981.08970607, 980.54919819, 980.00304509, 979.45129446,\n",
              "       978.89399263, 978.33118459, 977.76291405, 977.18922345,\n",
              "       976.61015402, 976.02574577, 975.4360376 , 974.84106723,\n",
              "       974.24087132, 973.63548544, 973.02494413, 972.40928089,\n",
              "       971.78852826])"
            ]
          },
          "execution_count": 6,
          "metadata": {},
          "output_type": "execute_result"
        }
      ],
      "source": [
        "density_range = cp.PropsSI(\"D\", \"T\", temp_range, \"P\", ref_press, fluid)\n",
        "density_range"
      ]
    },
    {
      "cell_type": "markdown",
      "metadata": {
        "id": "DoJ0m8oJ04Hr"
      },
      "source": [
        "Visualizamos gráficamente nuestro resultado mediante un gráfico $\\rho_w(T)$ a través del uso del módulo pyplot de la librería [Matplotlib](https://matplotlib.org/stable/tutorials/introductory/usage.html#sphx-glr-tutorials-introductory-usage-py)."
      ]
    },
    {
      "cell_type": "code",
      "execution_count": 7,
      "metadata": {
        "colab": {
          "base_uri": "https://localhost:8080/",
          "height": 297
        },
        "id": "bwjET379rsns",
        "outputId": "e231db1b-839a-413b-ae01-fab8cd520cb5"
      },
      "outputs": [
        {
          "data": {
            "image/png": "[encoded data removed]",
            "text/plain": [
              "<Figure size 640x480 with 1 Axes>"
            ]
          },
          "metadata": {},
          "output_type": "display_data"
        }
      ],
      "source": [
        "import matplotlib.pyplot as plt\n",
        "\n",
        "plt.figure()\n",
        "plt.plot(temp_range - 273.153, density_range)\n",
        "plt.xlabel(\"Temperatura [°C]\")\n",
        "plt.ylabel(r\"Densidad, $\\rho$ [kg/m$^3$]\")\n",
        "plt.title(\"Densidad del agua \\nen función de la temperatura \\na P = 101,325 [kPa]\")\n",
        "plt.xlim([0, 6])\n",
        "plt.ylim([999, 1000])\n",
        "plt.grid(True)\n",
        "plt.tight_layout()"
      ]
    }
  ],
  "metadata": {
    "colab": {
      "name": "Ayud_1.ipynb",
      "provenance": []
    },
    "kernelspec": {
      "display_name": "Python 3.9.12 ('Thermodynamics')",
      "language": "python",
      "name": "python3"
    },
    "language_info": {
      "codemirror_mode": {
        "name": "ipython",
        "version": 3
      },
      "file_extension": ".py",
      "mimetype": "text/x-python",
      "name": "python",
      "nbconvert_exporter": "python",
      "pygments_lexer": "ipython3",
      "version": "3.10.4"
    },
    "vscode": {
      "interpreter": {
        "hash": "e3e00a7bd6eae02d2ccac1eb55407bbbd95142f269ed3bd1034733c2cfa4f866"
      }
    }
  },
  "nbformat": 4,
  "nbformat_minor": 0
}
