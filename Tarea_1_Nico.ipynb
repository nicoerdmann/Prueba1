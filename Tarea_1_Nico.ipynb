{
  "nbformat": 4,
  "nbformat_minor": 0,
  "metadata": {
    "colab": {
      "provenance": [],
      "authorship_tag": "ABX9TyNMyFig2ceUJHpkZUff08X2",
      "include_colab_link": true
    },
    "kernelspec": {
      "name": "python3",
      "display_name": "Python 3"
    },
    "language_info": {
      "name": "python"
    }
  },
  "cells": [
    {
      "cell_type": "markdown",
      "metadata": {
        "id": "view-in-github",
        "colab_type": "text"
      },
      "source": [
        "<a href=\"https://colab.research.google.com/github/nicoerdmann/Termofluidos/blob/main/Tarea_1_Nico.ipynb\" target=\"_parent\"><img src=\"https://colab.research.google.com/assets/colab-badge.svg\" alt=\"Open In Colab\"/></a>"
      ]
    },
    {
      "cell_type": "markdown",
      "source": [
        "Primero comenzamos instalando las librerías."
      ],
      "metadata": {
        "id": "Lq8fhlaF2DCq"
      }
    },
    {
      "cell_type": "code",
      "source": [
        "pip install Coolprop"
      ],
      "metadata": {
        "colab": {
          "base_uri": "https://localhost:8080/"
        },
        "id": "feiaK3NH2INB",
        "outputId": "428168d9-2958-4105-c297-e246bd1cf794"
      },
      "execution_count": null,
      "outputs": [
        {
          "output_type": "stream",
          "name": "stdout",
          "text": [
            "Collecting Coolprop\n",
            "  Downloading CoolProp-6.6.0-cp310-cp310-manylinux_2_17_x86_64.manylinux2014_x86_64.whl.metadata (555 bytes)\n",
            "Downloading CoolProp-6.6.0-cp310-cp310-manylinux_2_17_x86_64.manylinux2014_x86_64.whl (7.0 MB)\n",
            "\u001b[2K   \u001b[90m━━━━━━━━━━━━━━━━━━━━━━━━━━━━━━━━━━━━━━━━\u001b[0m \u001b[32m7.0/7.0 MB\u001b[0m \u001b[31m3.0 MB/s\u001b[0m eta \u001b[36m0:00:00\u001b[0m\n",
            "\u001b[?25hInstalling collected packages: Coolprop\n",
            "Successfully installed Coolprop-6.6.0\n"
          ]
        }
      ]
    },
    {
      "cell_type": "code",
      "source": [
        "pip install fluids"
      ],
      "metadata": {
        "colab": {
          "base_uri": "https://localhost:8080/"
        },
        "id": "iPqsKq192R-Q",
        "outputId": "5238e08f-6826-4ed2-e755-e95c27296265"
      },
      "execution_count": null,
      "outputs": [
        {
          "output_type": "stream",
          "name": "stdout",
          "text": [
            "Collecting fluids\n",
            "  Downloading fluids-1.0.26-py3-none-any.whl.metadata (7.2 kB)\n",
            "Requirement already satisfied: numpy>=1.5.0 in /usr/local/lib/python3.10/dist-packages (from fluids) (1.26.4)\n",
            "Requirement already satisfied: scipy>=1.6.0 in /usr/local/lib/python3.10/dist-packages (from fluids) (1.13.1)\n",
            "Downloading fluids-1.0.26-py3-none-any.whl (1.5 MB)\n",
            "\u001b[2K   \u001b[90m━━━━━━━━━━━━━━━━━━━━━━━━━━━━━━━━━━━━━━━━\u001b[0m \u001b[32m1.5/1.5 MB\u001b[0m \u001b[31m5.5 MB/s\u001b[0m eta \u001b[36m0:00:00\u001b[0m\n",
            "\u001b[?25hInstalling collected packages: fluids\n",
            "Successfully installed fluids-1.0.26\n"
          ]
        }
      ]
    },
    {
      "cell_type": "code",
      "source": [
        "import CoolProp.CoolProp as cp\n",
        "import fluids as fld\n",
        "import numpy as np\n",
        "from scipy import constants\n",
        "from scipy.constants import g\n",
        "from fluids.units import *\n",
        "import pint"
      ],
      "metadata": {
        "id": "Nl27Tl9T2raT"
      },
      "execution_count": null,
      "outputs": []
    },
    {
      "cell_type": "markdown",
      "source": [
        "#Problema #2"
      ],
      "metadata": {
        "id": "QJ25KT2v1W_u"
      }
    },
    {
      "cell_type": "code",
      "source": [
        "u = pint.UnitRegistry()\n",
        "\n",
        "#Importante definir las unidades de medida\n",
        "Diametro = (1.25 / 39.37) * u.m\n",
        "vel_promedio = 100 / 3.281 * (u.m/u.s)\n",
        "Largo = 300 * u.m\n",
        "Area_transversal = (np.pi*Diametro**2)/4\n",
        "V_dot = vel_promedio * Area_transversal\n",
        "\n",
        "#Coolprop no permite trabajar con unidades, estos los dejamos como magnitudes escalares\n",
        "Temperatura = 20 + 273.15\n",
        "P_0 = 1 * 6895\n",
        "Diametro, vel_promedio, Largo, Area_transversal, V_dot, Temperatura, P_0"
      ],
      "metadata": {
        "colab": {
          "base_uri": "https://localhost:8080/"
        },
        "id": "8AE69Wfa2naY",
        "outputId": "da279916-7244-44f5-d7f9-5affc107a1a8"
      },
      "execution_count": null,
      "outputs": [
        {
          "output_type": "execute_result",
          "data": {
            "text/plain": [
              "(<Quantity(0.0317500635, 'meter')>,\n",
              " <Quantity(30.4785126, 'meter / second')>,\n",
              " <Quantity(300, 'meter')>,\n",
              " <Quantity(0.000791733603, 'meter ** 2')>,\n",
              " <Quantity(0.0241308626, 'meter ** 3 / second')>,\n",
              " 293.15,\n",
              " 6895)"
            ]
          },
          "metadata": {},
          "execution_count": 30
        }
      ]
    },
    {
      "cell_type": "markdown",
      "source": [
        "a) Comenzamos calculando la pérdida de carga de la tubería"
      ],
      "metadata": {
        "id": "CThLTQAz5DZY"
      }
    },
    {
      "cell_type": "code",
      "source": [
        "# Definir el fluido como gas natural y la tuberia de cobre\n",
        "fluido = 'Methane'\n",
        "material = 'Copper'\n",
        "\n",
        "#Obtenemos la rugosidad del material, la densidad (rho) y el mu\n",
        "epsilon = fld.material_roughness(material)*u.m\n",
        "rho = cp.PropsSI('D','T', Temperatura, 'P',P_0, fluido)*u.kg/u.m**3\n",
        "mu = cp.PropsSI('V','T', Temperatura, 'P',P_0, fluido)*u.Pa*u.s\n"
      ],
      "metadata": {
        "id": "hEpPRMCg3WwI"
      },
      "execution_count": null,
      "outputs": []
    },
    {
      "cell_type": "markdown",
      "source": [
        "Determinamos el numero de Reynolds:"
      ],
      "metadata": {
        "id": "fkud93mhKnPB"
      }
    },
    {
      "cell_type": "code",
      "source": [
        "Re = (fld.Reynolds(Diametro, rho, vel_promedio, mu)).to('dimensionless') #Reynolds es un numero adimensional\n",
        "Re"
      ],
      "metadata": {
        "colab": {
          "base_uri": "https://localhost:8080/",
          "height": 34
        },
        "id": "Y13wIbEX6hPM",
        "outputId": "a28fa6a2-2069-4d4b-a5fd-2e4102fffad7"
      },
      "execution_count": null,
      "outputs": [
        {
          "output_type": "execute_result",
          "data": {
            "text/plain": [
              "<Quantity(3983.77444, 'dimensionless')>"
            ],
            "text/html": [
              "3983.7744386019826 dimensionless"
            ],
            "text/latex": "$3983.7744386019826\\ \\mathrm{dimensionless}$"
          },
          "metadata": {},
          "execution_count": 32
        }
      ]
    },
    {
      "cell_type": "markdown",
      "source": [
        "Determinamos el factor de fricción:"
      ],
      "metadata": {
        "id": "ljX4pqNxIx5c"
      }
    },
    {
      "cell_type": "code",
      "source": [
        "f = fld.friction.friction_factor(Re, eD=epsilon/Diametro, Method='Colebrook')\n",
        "f"
      ],
      "metadata": {
        "colab": {
          "base_uri": "https://localhost:8080/",
          "height": 34
        },
        "id": "DmLdnoaGD385",
        "outputId": "f51c38e0-1717-4ab2-b716-ed3318b16bf3"
      },
      "execution_count": null,
      "outputs": [
        {
          "output_type": "execute_result",
          "data": {
            "text/plain": [
              "<Quantity(0.102648606, 'dimensionless')>"
            ],
            "text/html": [
              "0.10264860598701732 dimensionless"
            ],
            "text/latex": "$0.10264860598701732\\ \\mathrm{dimensionless}$"
          },
          "metadata": {},
          "execution_count": 33
        }
      ]
    },
    {
      "cell_type": "markdown",
      "source": [
        "La pérdida de carga debido a la fricción puede calcularse a través de la siguiente fórmula,\n",
        "\n",
        "$\\Delta P_{\\text{friction}} =f \\frac{L}{D} \\frac{\\rho V^{2}}{2}$"
      ],
      "metadata": {
        "id": "ggqTCa4i_5lR"
      }
    },
    {
      "cell_type": "code",
      "source": [
        "DELTA_P_f = ((f * Largo * rho * vel_promedio**2)/(2 * Diametro)).to(u.kPa)\n",
        "DELTA_P_f"
      ],
      "metadata": {
        "colab": {
          "base_uri": "https://localhost:8080/",
          "height": 34
        },
        "id": "1yjozX85JOOs",
        "outputId": "0843262d-f623-4b29-e7bf-a777112d2cef"
      },
      "execution_count": null,
      "outputs": [
        {
          "output_type": "execute_result",
          "data": {
            "text/plain": [
              "<Quantity(20.4470305, 'kilopascal')>"
            ],
            "text/html": [
              "20.447030468812596 kilopascal"
            ],
            "text/latex": "$20.447030468812596\\ \\mathrm{kilopascal}$"
          },
          "metadata": {},
          "execution_count": 34
        }
      ]
    },
    {
      "cell_type": "markdown",
      "source": [
        "b) Primero, para entender el grado de error introducido por el supuesto, debemos ver cuáles serán nuestras pérdidas de cargas considerando un fluido compresible, es decir, que cambia su densidad.\n",
        "Para eso, haremos divisiones a lo largo de la tubería e iremos evaluando las perdidas de carga utilizando las densidades en cada punto."
      ],
      "metadata": {
        "id": "rubV8lZdI5eZ"
      }
    },
    {
      "cell_type": "code",
      "source": [
        "P_0 = 1 * 6895 * u.Pa\n",
        "#divisiones de la tuberia\n",
        "numero_segmentos = 50\n",
        "longitud_segmento = Largo / numero_segmentos\n",
        "\n",
        "#perdida de presion acumulada\n",
        "DP_total = 0\n",
        "\n",
        "# Sumando los segmentos\n",
        "for i in range(numero_segmentos):\n",
        "\n",
        "    Re = (fld.Reynolds(Diametro.magnitude, rho.magnitude, vel_promedio.magnitude, mu.magnitude))\n",
        "    f = fld.friction.friction_factor(Re, eD=(epsilon.magnitude/Diametro.magnitude), Method='Colebrook')\n",
        "\n",
        "    # Calcular la pérdida de presión en el segmento actual\n",
        "    DP_segmento = (f * longitud_segmento * rho * vel_promedio**2) / (2 * Diametro)\n",
        "    DP_total += DP_segmento\n",
        "\n",
        "    # Actualizar la presión y propiedades del fluido\n",
        "    P_actual = P_0 - DP_total\n",
        "    rho = cp.PropsSI('D', 'T', Temperatura, 'P', P_actual.magnitude, fluido) * u.kg/u.m**3\n",
        "    mu = cp.PropsSI('V', 'T', Temperatura, 'P', P_actual.magnitude, fluido) * u.Pa*u.s\n",
        "\n",
        "DP_total = DP_total.to(u.kPa)\n",
        "print(f\"Pérdida total de presión: {DP_total:.2f}\")"
      ],
      "metadata": {
        "colab": {
          "base_uri": "https://localhost:8080/"
        },
        "id": "3oqiVCupLoOm",
        "outputId": "a3172f22-8ca7-4869-eb9d-68a648f3bf24"
      },
      "execution_count": null,
      "outputs": [
        {
          "output_type": "stream",
          "name": "stdout",
          "text": [
            "Pérdida total de presión: 5.88 kilopascal\n"
          ]
        }
      ]
    },
    {
      "cell_type": "code",
      "source": [
        "#Considerando esto, el grado de error al asumir densidad cte es:\n",
        "error = (DELTA_P_f - DP_total)/ DP_total * 100\n",
        "error"
      ],
      "metadata": {
        "colab": {
          "base_uri": "https://localhost:8080/",
          "height": 34
        },
        "id": "6A0kSMz7b6Sa",
        "outputId": "b9c7013c-646f-48c2-e942-bfd176cf270f"
      },
      "execution_count": null,
      "outputs": [
        {
          "output_type": "execute_result",
          "data": {
            "text/plain": [
              "<Quantity(247.891973, 'dimensionless')>"
            ],
            "text/html": [
              "247.89197310026384 dimensionless"
            ],
            "text/latex": "$247.89197310026384\\ \\mathrm{dimensionless}$"
          },
          "metadata": {},
          "execution_count": 43
        }
      ]
    },
    {
      "cell_type": "markdown",
      "source": [],
      "metadata": {
        "id": "Suw3iKjSb113"
      }
    },
    {
      "cell_type": "code",
      "source": [],
      "metadata": {
        "id": "0v9te0C7Qhkd"
      },
      "execution_count": null,
      "outputs": []
    }
  ]
}