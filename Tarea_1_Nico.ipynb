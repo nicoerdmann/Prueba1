{
  "nbformat": 4,
  "nbformat_minor": 0,
  "metadata": {
    "colab": {
      "provenance": [],
      "authorship_tag": "ABX9TyMrY+utc/Ouw5RHoo3y14gR",
      "include_colab_link": true
    },
    "kernelspec": {
      "name": "python3",
      "display_name": "Python 3"
    },
    "language_info": {
      "name": "python"
    }
  },
  "cells": [
    {
      "cell_type": "markdown",
      "metadata": {
        "id": "view-in-github",
        "colab_type": "text"
      },
      "source": [
        "<a href=\"https://colab.research.google.com/github/nicoerdmann/Termofluidos/blob/main/Tarea_1_Nico.ipynb\" target=\"_parent\"><img src=\"https://colab.research.google.com/assets/colab-badge.svg\" alt=\"Open In Colab\"/></a>"
      ]
    },
    {
      "cell_type": "markdown",
      "source": [
        "Primero comenzamos instalando las librerías."
      ],
      "metadata": {
        "id": "Lq8fhlaF2DCq"
      }
    },
    {
      "cell_type": "code",
      "source": [
        "pip install Coolprop"
      ],
      "metadata": {
        "colab": {
          "base_uri": "https://localhost:8080/"
        },
        "id": "feiaK3NH2INB",
        "outputId": "e67a4e87-834b-4111-bfde-b9f940cd3b48"
      },
      "execution_count": 2,
      "outputs": [
        {
          "output_type": "stream",
          "name": "stdout",
          "text": [
            "Collecting Coolprop\n",
            "  Downloading CoolProp-6.6.0-cp310-cp310-manylinux_2_17_x86_64.manylinux2014_x86_64.whl.metadata (555 bytes)\n",
            "Downloading CoolProp-6.6.0-cp310-cp310-manylinux_2_17_x86_64.manylinux2014_x86_64.whl (7.0 MB)\n",
            "\u001b[2K   \u001b[90m━━━━━━━━━━━━━━━━━━━━━━━━━━━━━━━━━━━━━━━━\u001b[0m \u001b[32m7.0/7.0 MB\u001b[0m \u001b[31m39.1 MB/s\u001b[0m eta \u001b[36m0:00:00\u001b[0m\n",
            "\u001b[?25hInstalling collected packages: Coolprop\n",
            "Successfully installed Coolprop-6.6.0\n"
          ]
        }
      ]
    },
    {
      "cell_type": "code",
      "source": [
        "pip install fluids"
      ],
      "metadata": {
        "colab": {
          "base_uri": "https://localhost:8080/"
        },
        "id": "iPqsKq192R-Q",
        "outputId": "da43a08d-1155-4bce-bfd8-0adc81cbe067"
      },
      "execution_count": 3,
      "outputs": [
        {
          "output_type": "stream",
          "name": "stdout",
          "text": [
            "Collecting fluids\n",
            "  Downloading fluids-1.0.26-py3-none-any.whl.metadata (7.2 kB)\n",
            "Requirement already satisfied: numpy>=1.5.0 in /usr/local/lib/python3.10/dist-packages (from fluids) (1.26.4)\n",
            "Requirement already satisfied: scipy>=1.6.0 in /usr/local/lib/python3.10/dist-packages (from fluids) (1.13.1)\n",
            "Downloading fluids-1.0.26-py3-none-any.whl (1.5 MB)\n",
            "\u001b[2K   \u001b[90m━━━━━━━━━━━━━━━━━━━━━━━━━━━━━━━━━━━━━━━━\u001b[0m \u001b[32m1.5/1.5 MB\u001b[0m \u001b[31m18.1 MB/s\u001b[0m eta \u001b[36m0:00:00\u001b[0m\n",
            "\u001b[?25hInstalling collected packages: fluids\n",
            "Successfully installed fluids-1.0.26\n"
          ]
        }
      ]
    },
    {
      "cell_type": "code",
      "source": [
        "pip install pint"
      ],
      "metadata": {
        "colab": {
          "base_uri": "https://localhost:8080/"
        },
        "id": "M5ZvWkVtj4Wm",
        "outputId": "4c403ab2-f463-423b-8c6e-76b8f67362a0"
      },
      "execution_count": 4,
      "outputs": [
        {
          "output_type": "stream",
          "name": "stdout",
          "text": [
            "Collecting pint\n",
            "  Downloading Pint-0.24.3-py3-none-any.whl.metadata (8.5 kB)\n",
            "Collecting appdirs>=1.4.4 (from pint)\n",
            "  Downloading appdirs-1.4.4-py2.py3-none-any.whl.metadata (9.0 kB)\n",
            "Requirement already satisfied: typing-extensions in /usr/local/lib/python3.10/dist-packages (from pint) (4.12.2)\n",
            "Collecting flexcache>=0.3 (from pint)\n",
            "  Downloading flexcache-0.3-py3-none-any.whl.metadata (7.0 kB)\n",
            "Collecting flexparser>=0.3 (from pint)\n",
            "  Downloading flexparser-0.3.1-py3-none-any.whl.metadata (18 kB)\n",
            "Downloading Pint-0.24.3-py3-none-any.whl (301 kB)\n",
            "\u001b[2K   \u001b[90m━━━━━━━━━━━━━━━━━━━━━━━━━━━━━━━━━━━━━━━━\u001b[0m \u001b[32m301.8/301.8 kB\u001b[0m \u001b[31m11.6 MB/s\u001b[0m eta \u001b[36m0:00:00\u001b[0m\n",
            "\u001b[?25hDownloading appdirs-1.4.4-py2.py3-none-any.whl (9.6 kB)\n",
            "Downloading flexcache-0.3-py3-none-any.whl (13 kB)\n",
            "Downloading flexparser-0.3.1-py3-none-any.whl (27 kB)\n",
            "Installing collected packages: appdirs, flexparser, flexcache, pint\n",
            "Successfully installed appdirs-1.4.4 flexcache-0.3 flexparser-0.3.1 pint-0.24.3\n"
          ]
        }
      ]
    },
    {
      "cell_type": "code",
      "source": [
        "import CoolProp.CoolProp as cp\n",
        "import fluids as fld\n",
        "import numpy as np\n",
        "from scipy import constants\n",
        "from scipy.constants import g\n",
        "from fluids.units import *\n",
        "import pint\n",
        "import matplotlib.pyplot as plt"
      ],
      "metadata": {
        "id": "Nl27Tl9T2raT"
      },
      "execution_count": 5,
      "outputs": []
    },
    {
      "cell_type": "markdown",
      "source": [
        "#Problema #2"
      ],
      "metadata": {
        "id": "QJ25KT2v1W_u"
      }
    },
    {
      "cell_type": "code",
      "source": [
        "u = pint.UnitRegistry()\n",
        "\n",
        "#Importante definir las unidades de medida\n",
        "Diametro = (1.25 / 39.37) * u.m\n",
        "vel_promedio = 100 / 3.281 * (u.m/u.s)\n",
        "Largo = 300 * u.m\n",
        "Area_transversal = (np.pi*Diametro**2)/4\n",
        "V_dot = vel_promedio * Area_transversal\n",
        "\n",
        "#Coolprop no permite trabajar con unidades, estos los dejamos como magnitudes escalares\n",
        "Temperatura = 20 + 273.15\n",
        "P_0 = 1000 * 6895 + 101325 #Debemos sumar la presión atmosférica\n",
        "Diametro, vel_promedio, Largo, Area_transversal, V_dot, Temperatura, P_0"
      ],
      "metadata": {
        "colab": {
          "base_uri": "https://localhost:8080/"
        },
        "id": "8AE69Wfa2naY",
        "outputId": "7119b2be-1ed3-47ca-b0e1-476441e83c04"
      },
      "execution_count": 6,
      "outputs": [
        {
          "output_type": "execute_result",
          "data": {
            "text/plain": [
              "(<Quantity(0.0317500635, 'meter')>,\n",
              " <Quantity(30.4785126, 'meter / second')>,\n",
              " <Quantity(300, 'meter')>,\n",
              " <Quantity(0.000791733603, 'meter ** 2')>,\n",
              " <Quantity(0.0241308626, 'meter ** 3 / second')>,\n",
              " 293.15,\n",
              " 6996325)"
            ]
          },
          "metadata": {},
          "execution_count": 6
        }
      ]
    },
    {
      "cell_type": "markdown",
      "source": [
        "a) Comenzamos calculando la pérdida de carga de la tubería"
      ],
      "metadata": {
        "id": "CThLTQAz5DZY"
      }
    },
    {
      "cell_type": "code",
      "source": [
        "# Definir el fluido como gas natural y la tuberia de cobre\n",
        "fluido = 'Methane'\n",
        "material = 'copper'\n",
        "\n",
        "#Obtenemos la rugosidad del material, la densidad (rho) y el mu\n",
        "epsilon = fld.material_roughness(material)*u.m\n",
        "rho = cp.PropsSI('D','T', Temperatura, 'P',P_0, fluido)*u.kg/u.m**3\n",
        "mu = cp.PropsSI('V','T', Temperatura, 'P',P_0, fluido)*u.Pa*u.s\n"
      ],
      "metadata": {
        "id": "hEpPRMCg3WwI"
      },
      "execution_count": 7,
      "outputs": []
    },
    {
      "cell_type": "markdown",
      "source": [
        "Determinamos el numero de Reynolds:"
      ],
      "metadata": {
        "id": "fkud93mhKnPB"
      }
    },
    {
      "cell_type": "code",
      "source": [
        "Re = (fld.Reynolds(Diametro, rho, vel_promedio, mu)).to('dimensionless') #Reynolds es un numero adimensional\n",
        "Re"
      ],
      "metadata": {
        "colab": {
          "base_uri": "https://localhost:8080/",
          "height": 34
        },
        "id": "Y13wIbEX6hPM",
        "outputId": "a91ed020-fe3d-4924-c75e-51985726b39c"
      },
      "execution_count": 8,
      "outputs": [
        {
          "output_type": "execute_result",
          "data": {
            "text/plain": [
              "<Quantity(4024561.0, 'dimensionless')>"
            ],
            "text/html": [
              "4024560.9979514107 dimensionless"
            ],
            "text/latex": "$4024560.9979514107\\ \\mathrm{dimensionless}$"
          },
          "metadata": {},
          "execution_count": 8
        }
      ]
    },
    {
      "cell_type": "markdown",
      "source": [
        "Determinamos el factor de fricción:"
      ],
      "metadata": {
        "id": "ljX4pqNxIx5c"
      }
    },
    {
      "cell_type": "code",
      "source": [
        "f = fld.friction.friction_factor(Re, eD=epsilon/Diametro, Method='Colebrook')\n",
        "f"
      ],
      "metadata": {
        "colab": {
          "base_uri": "https://localhost:8080/",
          "height": 34
        },
        "id": "DmLdnoaGD385",
        "outputId": "3b94d055-1b5c-473c-e28c-2927f817eb28"
      },
      "execution_count": 9,
      "outputs": [
        {
          "output_type": "execute_result",
          "data": {
            "text/plain": [
              "<Quantity(0.0583548701, 'dimensionless')>"
            ],
            "text/html": [
              "0.05835487010752671 dimensionless"
            ],
            "text/latex": "$0.05835487010752671\\ \\mathrm{dimensionless}$"
          },
          "metadata": {},
          "execution_count": 9
        }
      ]
    },
    {
      "cell_type": "markdown",
      "source": [
        "La pérdida de carga debido a la fricción puede calcularse a través de la siguiente fórmula,\n",
        "\n",
        "$\\Delta P_{\\text{friction}} =f \\frac{L}{D} \\frac{\\rho V^{2}}{2}$"
      ],
      "metadata": {
        "id": "ggqTCa4i_5lR"
      }
    },
    {
      "cell_type": "code",
      "source": [
        "DELTA_P_incompresible = ((f * Largo * rho * vel_promedio**2)/(2 * Diametro)).to(u.kPa)\n",
        "DELTA_P_incompresible"
      ],
      "metadata": {
        "colab": {
          "base_uri": "https://localhost:8080/",
          "height": 34
        },
        "id": "1yjozX85JOOs",
        "outputId": "5644f733-4947-40ad-98af-ebce982ab9e9"
      },
      "execution_count": 10,
      "outputs": [
        {
          "output_type": "execute_result",
          "data": {
            "text/plain": [
              "<Quantity(13398.5385, 'kilopascal')>"
            ],
            "text/html": [
              "13398.53845599732 kilopascal"
            ],
            "text/latex": "$13398.53845599732\\ \\mathrm{kilopascal}$"
          },
          "metadata": {},
          "execution_count": 10
        }
      ]
    },
    {
      "cell_type": "markdown",
      "source": [
        "b) Primero, para entender el grado de error introducido por el supuesto, debemos ver cuáles serán nuestras pérdidas de cargas considerando un fluido compresible, es decir, que cambia su densidad.\n",
        "Para eso, haremos divisiones a lo largo de la tubería e iremos evaluando las perdidas de carga utilizando las densidades en cada punto."
      ],
      "metadata": {
        "id": "rubV8lZdI5eZ"
      }
    },
    {
      "cell_type": "code",
      "source": [
        "P_0 = (1000 * 6895 + 101325) * u.Pa\n",
        "#divisiones de la tuberia\n",
        "numero_segmentos = 50\n",
        "longitud_segmento = Largo / numero_segmentos\n",
        "\n",
        "#perdida de presion acumulada\n",
        "DELTA_P_compresible = 0\n",
        "\n",
        "# Sumando los segmentos\n",
        "for i in range(numero_segmentos):\n",
        "\n",
        "    Re = (fld.Reynolds(Diametro.magnitude, rho.magnitude, vel_promedio.magnitude, mu.magnitude))\n",
        "    f = fld.friction.friction_factor(Re, eD=(epsilon.magnitude/Diametro.magnitude), Method='Colebrook')\n",
        "\n",
        "    # Calcular la pérdida de presión en el segmento actual\n",
        "    DP_segmento = (f * longitud_segmento * rho * vel_promedio**2) / (2 * Diametro)\n",
        "    DELTA_P_compresible += DP_segmento\n",
        "\n",
        "    # Actualizar la presión y propiedades del fluido\n",
        "    P_actual = P_0 - DELTA_P_compresible\n",
        "    rho = cp.PropsSI('D', 'T', Temperatura, 'P', P_actual.magnitude, fluido) * u.kg/u.m**3\n",
        "    mu = cp.PropsSI('V', 'T', Temperatura, 'P', P_actual.magnitude, fluido) * u.Pa*u.s\n",
        "\n",
        "DELTA_P_compresible = DELTA_P_compresible.to(u.kPa)\n",
        "print(f\"Pérdida total de presión: {DELTA_P_compresible:.2f}\")"
      ],
      "metadata": {
        "colab": {
          "base_uri": "https://localhost:8080/"
        },
        "id": "3oqiVCupLoOm",
        "outputId": "534c04ca-60ba-430b-f854-86b83e6cb7d3"
      },
      "execution_count": 11,
      "outputs": [
        {
          "output_type": "stream",
          "name": "stdout",
          "text": [
            "Pérdida total de presión: 5866.40 kilopascal\n"
          ]
        }
      ]
    },
    {
      "cell_type": "markdown",
      "source": [
        "Para hacer el cálculo del error, podemos utilizar la formula de error:\n",
        "\n",
        "$Error = \\frac{\\Delta P_{incompresible}-\\Delta P_{compresible}}{\\Delta P_{compresible}} * 100$"
      ],
      "metadata": {
        "id": "dzfPihufmT1e"
      }
    },
    {
      "cell_type": "code",
      "source": [
        "error = abs((DELTA_P_incompresible - DELTA_P_compresible))/(DELTA_P_compresible) * 100\n",
        "error"
      ],
      "metadata": {
        "colab": {
          "base_uri": "https://localhost:8080/",
          "height": 34
        },
        "id": "6A0kSMz7b6Sa",
        "outputId": "1d1b7eb4-93f5-43ca-8230-103e2d1c8865"
      },
      "execution_count": 12,
      "outputs": [
        {
          "output_type": "execute_result",
          "data": {
            "text/plain": [
              "<Quantity(128.394706, 'dimensionless')>"
            ],
            "text/html": [
              "128.39470605994015 dimensionless"
            ],
            "text/latex": "$128.39470605994015\\ \\mathrm{dimensionless}$"
          },
          "metadata": {},
          "execution_count": 12
        }
      ]
    },
    {
      "cell_type": "markdown",
      "source": [
        "Por lo que el error es del 128%"
      ],
      "metadata": {
        "id": "SBpJQNHr7Y2h"
      }
    },
    {
      "cell_type": "markdown",
      "source": [
        "c) Considerando que el error es significativo, la validez del supuesto de incompresibilidad es errónea."
      ],
      "metadata": {
        "id": "Suw3iKjSb113"
      }
    },
    {
      "cell_type": "markdown",
      "source": [
        "d) Para este inciso, debo realizar una evaluación del error a lo largo de la tubería. Muy similar al procedimiento anterior:"
      ],
      "metadata": {
        "id": "v2oNLxuvo85S"
      }
    },
    {
      "cell_type": "code",
      "source": [
        "longitudes = np.linspace(10, Largo.magnitude, 50) * u.m  # Variar la longitud de 10 m a 300 m\n",
        "error_relativo = []\n",
        "\n",
        "for Largo in longitudes:\n",
        "  P_0 = (1000 * 6895 + 101325) * u.Pa\n",
        "  #divisiones de la tuberia\n",
        "  numero_segmentos = 50\n",
        "  longitud_segmento = Largo / numero_segmentos\n",
        "\n",
        "  #perdida de presion acumulada\n",
        "  DELTA_P_compresible = 0\n",
        "\n",
        "  # Sumando los segmentos\n",
        "  for i in range(numero_segmentos):\n",
        "\n",
        "      Re = (fld.Reynolds(Diametro.magnitude, rho.magnitude, vel_promedio.magnitude, mu.magnitude))\n",
        "      f = fld.friction.friction_factor(Re, eD=(epsilon.magnitude/Diametro.magnitude), Method='Colebrook')\n",
        "\n",
        "      # Calcular la pérdida de presión en el segmento actual\n",
        "      DP_segmento = (f * longitud_segmento * rho * vel_promedio**2) / (2 * Diametro)\n",
        "      DELTA_P_compresible += DP_segmento\n",
        "\n",
        "      # Actualizar la presión y propiedades del fluido\n",
        "      P_actual = P_0 - DELTA_P_compresible\n",
        "      rho = cp.PropsSI('D', 'T', Temperatura, 'P', P_actual.magnitude, fluido) * u.kg/u.m**3\n",
        "      mu = cp.PropsSI('V', 'T', Temperatura, 'P', P_actual.magnitude, fluido) * u.Pa*u.s\n",
        "      DELTA_P_incompresible = ((f * Largo * rho * vel_promedio**2)/(2 * Diametro)).to(u.kPa)\n",
        "\n",
        "  DELTA_P_compresible = DELTA_P_compresible.to(u.kPa)\n",
        "  error = abs((DELTA_P_incompresible - DELTA_P_compresible))/(DELTA_P_compresible) * 100\n",
        "  error_relativo.append(error)\n",
        "\n",
        "plt.figure(figsize=(10, 6))\n",
        "plt.plot(longitudes.magnitude, error_relativo, label='Error Relativo (%)')\n",
        "plt.xlabel('Longitud de la Tubería (m)')\n",
        "plt.ylabel('Error Relativo (%)')\n",
        "plt.title('Error Relativo en la Pérdida de Presión vs Longitud de la Tubería')\n",
        "plt.grid(True)\n",
        "plt.legend()\n",
        "plt.show()"
      ],
      "metadata": {
        "id": "0v9te0C7Qhkd",
        "colab": {
          "base_uri": "https://localhost:8080/",
          "height": 565
        },
        "outputId": "31ddf91e-b15d-460e-c8af-ace89b0919f8"
      },
      "execution_count": 14,
      "outputs": [
        {
          "output_type": "display_data",
          "data": {
            "text/plain": [
              "<Figure size 1000x600 with 1 Axes>"
            ],
            "image/png": "[encoded data removed]"
          },
          "metadata": {}
        }
      ]
    },
    {
      "cell_type": "markdown",
      "source": [],
      "metadata": {
        "id": "QBtEjcsS_0jt"
      }
    }
  ]
}